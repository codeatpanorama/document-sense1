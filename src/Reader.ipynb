{
 "cells": [
  {
   "attachments": {},
   "cell_type": "markdown",
   "metadata": {},
   "source": [
    "# Extract texts from a document"
   ]
  },
  {
   "cell_type": "code",
   "execution_count": 25,
   "metadata": {},
   "outputs": [],
   "source": [
    "import pandas as pd\n",
    "import numpy as np\n",
    "import PIL\n",
    "import pytesseract\n",
    "import spacy\n",
    "import cv2\n",
    "import os\n",
    "from pdf2image import convert_from_path\n",
    "from glob import glob\n",
    "import logging\n"
   ]
  },
  {
   "attachments": {},
   "cell_type": "markdown",
   "metadata": {},
   "source": [
    "\n",
    "## Logic for text extraction from a document\n",
    "1. Open the file using cv2 - currently only PDF\n",
    "2. Convert the document into images\n",
    "3. Parse the images to generate a dataframe of document details\n",
    "4. Clean the dataframe to remove NAs and garbage words\n",
    "5. Store the result of the dataframe into CSVs"
   ]
  },
  {
   "cell_type": "code",
   "execution_count": 26,
   "metadata": {},
   "outputs": [
    {
     "name": "stderr",
     "output_type": "stream",
     "text": [
      "DEBUG:root:test\n"
     ]
    }
   ],
   "source": [
    "logger = logging.getLogger()\n",
    "logger.setLevel(logging.DEBUG)\n",
    "logging.debug(\"test\")\n",
    "\n",
    "pdfPath = r\"../data/Binder3.pdf\""
   ]
  },
  {
   "cell_type": "code",
   "execution_count": 27,
   "metadata": {},
   "outputs": [],
   "source": [
    "# this will put all the content of the data frame into a csv\n",
    "def writecsv(df: pd.DataFrame, path: str):\n",
    "    os.makedirs('csvs', exist_ok=True)\n",
    "    df.to_csv(path)"
   ]
  },
  {
   "cell_type": "code",
   "execution_count": 28,
   "metadata": {},
   "outputs": [],
   "source": [
    "def generateBoundedImage(image, index:int, df:pd.DataFrame):\n",
    "    ## Draw lines on the text in the document\n",
    "    level = 'word'\n",
    "    for l, x, y, w, h, c, t in df[['level', 'left', 'top', 'width', 'height', 'conf', 'text']].values:\n",
    "        if level == 'page':\n",
    "            if l == 1:\n",
    "                cv2.rectangle(image, (x, y), (x+w, y+h), (0, 0, 0), 2)\n",
    "            else:\n",
    "                continue\n",
    "\n",
    "        elif level == 'block':\n",
    "            if l == 2:\n",
    "                cv2.rectangle(image, (x, y), (x+w, y+h), (255, 0, 0), 2)\n",
    "            else:\n",
    "                continue\n",
    "        elif level == 'para':\n",
    "            if l == 3:\n",
    "                cv2.rectangle(image, (x, y), (x+w, y+h), (0, 255, 0), 2)\n",
    "            else:\n",
    "                continue\n",
    "        elif level == 'line':\n",
    "            if l == 4:\n",
    "                cv2.rectangle(image, (x, y), (x+w, y+h), (0, 0, 255), 2)\n",
    "            else:\n",
    "                continue\n",
    "        elif level == 'word':\n",
    "            if l == 5:\n",
    "                cv2.rectangle(image, (x, y), (x+w, y+h), (0, 255, 0), 2)\n",
    "                cv2.putText(image, t, (x, y), cv2.FONT_HERSHEY_PLAIN,\n",
    "                            1, (255, 0, 0), 2)\n",
    "            else:\n",
    "                continue\n",
    "    \n",
    "    boundedImagePath = \"../data/bounded/boundingbox_\"+ str(index)+\".jpeg\"\n",
    "    cv2.imwrite(boundedImagePath, image)"
   ]
  },
  {
   "cell_type": "code",
   "execution_count": 37,
   "metadata": {},
   "outputs": [],
   "source": [
    "# Generate metadata of a PDF file\n",
    "def getFileData(filename: str):\n",
    "    pages = convert_from_path(filename, 350)\n",
    "    i = 1\n",
    "    for page in pages:\n",
    "        image_name = \"../data/temp/Page_\" + str(i) + \".jpg\"\n",
    "        page.save(image_name, \"JPEG\")\n",
    "        i = i+1\n",
    "\n",
    "    imagePathList = glob(\"../data/temp/*.jpg\")\n",
    "\n",
    "    #logging.info(\"total number of pages \"+ str(len(imagePathList)))\n",
    "    imagePathList.sort()\n",
    "\n",
    "    finalDF = pd.DataFrame()\n",
    "\n",
    "    col_int = ['level', 'page_num', 'block_num', 'par_num',\n",
    "                'line_num', 'word_num', 'left', 'top', 'width', 'height']\n",
    "\n",
    "    for index, path in enumerate   (imagePathList):\n",
    "        if index == 1:\n",
    "            break\n",
    "\n",
    "        img = cv2.imread(path)\n",
    "        data = pytesseract.image_to_data(img, lang='mar+eng')\n",
    "        dataList = list(map(lambda x: x.split('\\t'), data.split('\\n')))\n",
    "        df = pd.DataFrame(dataList[1:], columns=dataList[0])\n",
    "        df.to_csv(index=False)\n",
    "\n",
    "        ## Data cleaning\n",
    "        df.dropna(inplace=True)  # drop the missing in rows\n",
    "        df[col_int] = df[col_int].astype(int)\n",
    "        df['conf'] = df['conf'].astype(float).astype(int)\n",
    "\n",
    "        ## Draw lines on the text in the document\n",
    "        #image = img.copy()\n",
    "        #generateBoundedImage(image, index, df)\n",
    "    \n",
    "        finalDF = pd.concat([finalDF, df], ignore_index = True)\n",
    "\n",
    "    # write df to csv\n",
    "    writecsv(finalDF, \"csvs/extracted.csv\")\n",
    "    \n",
    "    dfWords=finalDF[finalDF['level'] == 5]\n",
    "\n",
    "    writecsv(dfWords, \"csvs/extractedText.csv\")\n",
    "\n",
    "    ## Filter dataframe to just words\n",
    "    finalDF80 = dfWords[dfWords['conf'] > 80]\n",
    "    #finalDF80 = finalDF80[[\"text\"]]\n",
    "\n",
    "    #finalDF80.dropna(inplace=True)\n",
    "\n",
    "    return finalDF80\n"
   ]
  },
  {
   "cell_type": "code",
   "execution_count": 38,
   "metadata": {},
   "outputs": [],
   "source": [
    "df80 = getFileData(pdfPath)\n",
    "writecsv(df80, \"csvs/output_80.csv\")\n"
   ]
  },
  {
   "cell_type": "code",
   "execution_count": 31,
   "metadata": {},
   "outputs": [
    {
     "data": {
      "text/plain": [
       "array(['  ', 'मराठी', 'विकिपीडिया', '=.', 'विकिपीडियन्स', 'कडून',\n",
       "       '**आपले', 'हार्दिक', 'स्वागत', 'आहे.**', '      ', ' ', ' ', ' ',\n",
       "       '  ', '  ', ' ', ' ', ' ', ' ', ' ', ' ', '   ', ' ', ' ', '  ',\n",
       "       'जगाचे', 'स्वप्न', 'प्रत्यक्षात', 'आणा', 'कि', 'जगातील', 'त्या',\n",
       "       'प्रत्येक', 'भाषेतील', 'ज्ञान,', 'माहिती', 'आणि', 'संवाद',\n",
       "       'मराठीत', 'आणि', 'मराठीतील', 'माहीती,', 'ज्ञान', 'आणि', 'संबाद',\n",
       "       'जगातील', 'प्रत्येक', 'भाषेत', 'तत्काळ', 'आणि', 'मुक्त', 'पणे',\n",
       "       'उपलब्ध', 'चला', 'आपण', 'सारे', 'यामध्ये', 'वाक्यातील', 'काही',\n",
       "       'निवडक', 'जबाबदाऱ्या', 'पेलण्यास', 'सक्षम', 'मराठी', 'विकिपीडिया',\n",
       "       'चळवळीत', 'सहभागी', 'होऊ', 'या!', 'जर', 'हाडाचे', 'मराठी',\n",
       "       'प्रेमी', 'असाल', 'तर', 'लागा', 'कामाला', 'आत्ता', 'पासून', 'या',\n",
       "       'क्षणा', 'पासून', 'माय', 'मराठीस', 'द्या', 'मिळवून', 'तिच्या',\n",
       "       'हक्काची', 'जागा', 'जी', 'अढळ', 'असेल', 'जो', 'पर्यंत', 'हे',\n",
       "       'अंतराळ', 'आहे', 'आणि', 'त्यावर', 'जीवन', 'आहे', 'तो', 'पर्यंत',\n",
       "       'वाटेतील', 'सारे', 'अडथळे', 'केवळ', 'मानसिक', 'असतील', 'आणि', 'ते',\n",
       "       'पार', 'करण्याचे', 'सामर्थ्य', 'मराठी', 'भाषा', 'तुम्हा', 'आम्हा',\n",
       "       'सर्वांना', 'सदोदीत', 'देवो', 'ही', ' ', ' ', '   ', '   ', ' ',\n",
       "       ' ', '     ', '   ', ' ', ' ', 'विकिपीडिया', 'परिचय', ':',\n",
       "       'विकिपीडिया', 'हा', 'विकिपीडिया', 'वाचकांनीच', 'एकत्रितपणे',\n",
       "       'इंटरनेट', 'वर', 'संपादित', 'केलेला', 'मुक्त', 'ज्ञानकोश', 'आहे.',\n",
       "       'हे', 'विकी', 'आहे', 'याचा', 'अर्थ', 'कुणीही', 'अगदी',\n",
       "       'तुम्हीसुध्दा', 'ह्या', 'वेबपेजची', 'बहुतेक', 'पाने', 'किंवा',\n",
       "       'लेख', \"'संपादन'\", 'असे', 'लिहीलेल्या', 'टॅबच्या', 'चौकटीवर',\n",
       "       'क्लिक', 'करुन', 'संपादनास', 'सुरुवात', 'करु', 'शकता.', 'संपादन',\n",
       "       'म्हणजे', 'नवे', 'लेखन', 'आणि', 'जुन्या', 'लेखनात', 'इंग्रजी',\n",
       "       'विकिपीडिया', '१५', 'जानेवारी', '२००१', 'ला', 'सुरु', 'झाला', 'तर',\n",
       "       'मराठी', 'विकिपीडिया', 'ची', 'स्थापना', '२००३', 'ला', 'झाली.',\n",
       "       'मराठी', 'जानणारे', 'यास', 'सक्रीय', 'हातभार', 'लावत', 'आहेत.',\n",
       "       'संकेतस्थळ', ':', 'म्हणजे', 'काय?', 'काही', 'वेळा',\n",
       "       'ज्ञानकोशासाठी', 'विश्वकोश', 'अशीही', 'संज्ञा', 'वापरली', 'जाते.',\n",
       "       'विश्वकोश', 'म्हणजे', 'ज्ञानाच्या', 'सर्व', 'शाखा', 'विशिष्ट',\n",
       "       'शाखेशी', 'बहुव्यापक', 'माहिती', 'लिहीलेला', 'बहुसमावेशक',\n",
       "       'सारग्रंथ', 'होय.', 'विश्वकोश', 'प्रत्येक', 'विषयावर', 'एक', 'लेख',\n",
       "       'या', 'प्रमाणे', 'विश्वकोशाची', 'विविध', 'लेखात', 'नोंद', 'घेते.',\n",
       "       'एखाद्या', 'विश्वकोषातील', 'विषयासंबंधीत', 'लेख,', 'मजकुर', 'किती',\n",
       "       'आणी', 'काय', 'आहे.', 'त्या', 'नुसार', 'एक', 'पुस्तक', 'त्यांच्या',\n",
       "       'अनेक', 'खंडात', 'मांडणी', 'केलेले', 'आढळतात.', 'विश्वकोशांना',\n",
       "       'स्वतःचा', 'विशिष्ट', 'वाचकवर्ग', 'असतो.', 'तो', 'केवळ',\n",
       "       'संक्षिप्त(मोजके)', 'साक्षेपी(संदर्भ', 'असलेली', 'काही', 'विरुध्द',\n",
       "       'मते', 'असल्यास,', 'त्याच्या', 'सह)', 'तिथे', 'संदर्भ', 'असलेली',\n",
       "       'वस्तुनिष्ठ', 'आणि', 'तटस्थपणे', 'दिलेली', 'माहिती', 'वाचत',\n",
       "       'असतो.', ' ', ' ', ' ', ' ', '  ', '  ', ' ', ' ', ' ', ' ', ' ',\n",
       "       ' ', ' ', ' ', '   '], dtype=object)"
      ]
     },
     "execution_count": 31,
     "metadata": {},
     "output_type": "execute_result"
    }
   ],
   "source": [
    "dfArray = df80['text'].to_numpy()\n",
    "\n",
    "dfArray"
   ]
  },
  {
   "cell_type": "code",
   "execution_count": 34,
   "metadata": {},
   "outputs": [
    {
     "data": {
      "text/plain": [
       "\"मराठी विकिपीडिया =. विकिपीडियन्स कडून **आपले हार्दिक स्वागत आहे.** जगाचे स्वप्न प्रत्यक्षात आणा कि जगातील त्या प्रत्येक भाषेतील ज्ञान, माहिती आणि संवाद मराठीत आणि मराठीतील माहीती, ज्ञान आणि संबाद जगातील प्रत्येक भाषेत तत्काळ आणि मुक्त पणे उपलब्ध चला आपण सारे यामध्ये वाक्यातील काही निवडक जबाबदाऱ्या पेलण्यास सक्षम मराठी विकिपीडिया चळवळीत सहभागी होऊ या! जर हाडाचे मराठी प्रेमी असाल तर लागा कामाला आत्ता पासून या क्षणा पासून माय मराठीस द्या मिळवून तिच्या हक्काची जागा जी अढळ असेल जो पर्यंत हे अंतराळ आहे आणि त्यावर जीवन आहे तो पर्यंत वाटेतील सारे अडथळे केवळ मानसिक असतील आणि ते पार करण्याचे सामर्थ्य मराठी भाषा तुम्हा आम्हा सर्वांना सदोदीत देवो ही विकिपीडिया परिचय : विकिपीडिया हा विकिपीडिया वाचकांनीच एकत्रितपणे इंटरनेट वर संपादित केलेला मुक्त ज्ञानकोश आहे. हे विकी आहे याचा अर्थ कुणीही अगदी तुम्हीसुध्दा ह्या वेबपेजची बहुतेक पाने किंवा लेख 'संपादन' असे लिहीलेल्या टॅबच्या चौकटीवर क्लिक करुन संपादनास सुरुवात करु शकता. संपादन म्हणजे नवे लेखन आणि जुन्या लेखनात इंग्रजी विकिपीडिया १५ जानेवारी २००१ ला सुरु झाला तर मराठी विकिपीडिया ची स्थापना २००३ ला झाली. मराठी जानणारे यास सक्रीय हातभार लावत आहेत. संकेतस्थळ : म्हणजे काय? काही वेळा ज्ञानकोशासाठी विश्वकोश अशीही संज्ञा वापरली जाते. विश्वकोश म्हणजे ज्ञानाच्या सर्व शाखा विशिष्ट शाखेशी बहुव्यापक माहिती लिहीलेला बहुसमावेशक सारग्रंथ होय. विश्वकोश प्रत्येक विषयावर एक लेख या प्रमाणे विश्वकोशाची विविध लेखात नोंद घेते. एखाद्या विश्वकोषातील विषयासंबंधीत लेख, मजकुर किती आणी काय आहे. त्या नुसार एक पुस्तक त्यांच्या अनेक खंडात मांडणी केलेले आढळतात. विश्वकोशांना स्वतःचा विशिष्ट वाचकवर्ग असतो. तो केवळ संक्षिप्त(मोजके) साक्षेपी(संदर्भ असलेली काही विरुध्द मते असल्यास, त्याच्या सह) तिथे संदर्भ असलेली वस्तुनिष्ठ आणि तटस्थपणे दिलेली माहिती वाचत असतो.\""
      ]
     },
     "execution_count": 34,
     "metadata": {},
     "output_type": "execute_result"
    }
   ],
   "source": [
    "dfArrayWithoutSpaces = [ele for ele in dfArray if ele.strip()]\n",
    "largeString = \" \".join(dfArrayWithoutSpaces)\n",
    "\n",
    "largeString\n"
   ]
  },
  {
   "cell_type": "code",
   "execution_count": null,
   "metadata": {},
   "outputs": [],
   "source": [
    "interestedCols = ['page_num', 'left', 'top', 'width', 'height', 'conf']\n"
   ]
  }
 ],
 "metadata": {
  "kernelspec": {
   "display_name": "Python 3",
   "language": "python",
   "name": "python3"
  },
  "language_info": {
   "codemirror_mode": {
    "name": "ipython",
    "version": 3
   },
   "file_extension": ".py",
   "mimetype": "text/x-python",
   "name": "python",
   "nbconvert_exporter": "python",
   "pygments_lexer": "ipython3",
   "version": "3.7.16"
  },
  "orig_nbformat": 4,
  "vscode": {
   "interpreter": {
    "hash": "58c670b8b3135f95eeb50a087490294868fb63e0a9a712eae1d387dba638a30f"
   }
  }
 },
 "nbformat": 4,
 "nbformat_minor": 2
}
