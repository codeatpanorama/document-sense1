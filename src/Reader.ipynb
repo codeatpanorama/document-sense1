{
 "cells": [
  {
   "attachments": {},
   "cell_type": "markdown",
   "metadata": {},
   "source": [
    "# Extract texts from a document"
   ]
  },
  {
   "cell_type": "code",
   "execution_count": 1,
   "metadata": {},
   "outputs": [],
   "source": [
    "import pandas as pd\n",
    "import numpy as np\n",
    "import PIL\n",
    "import pytesseract\n",
    "import spacy\n",
    "import cv2\n",
    "import os\n",
    "from pdf2image import convert_from_path\n",
    "from glob import glob\n",
    "import logging\n"
   ]
  },
  {
   "attachments": {},
   "cell_type": "markdown",
   "metadata": {},
   "source": [
    "\n",
    "## Logic for text extraction from a document\n",
    "1. Open the file using cv2 - currently only PDF\n",
    "2. Convert the document into images\n",
    "3. Parse the images to generate a dataframe of document details\n",
    "4. Clean the dataframe to remove NAs and garbage words\n",
    "5. Store the result of the dataframe into CSVs"
   ]
  },
  {
   "cell_type": "code",
   "execution_count": 2,
   "metadata": {},
   "outputs": [
    {
     "name": "stderr",
     "output_type": "stream",
     "text": [
      "DEBUG:root:test\n"
     ]
    }
   ],
   "source": [
    "logger = logging.getLogger()\n",
    "logger.setLevel(logging.DEBUG)\n",
    "logging.debug(\"test\")\n",
    "\n",
    "pdfPath = r\"../data/Binder3.pdf\""
   ]
  },
  {
   "cell_type": "code",
   "execution_count": 3,
   "metadata": {},
   "outputs": [],
   "source": [
    "# this will put all the content of the data frame into a csv\n",
    "def writecsv(df: pd.DataFrame, path: str):\n",
    "    os.makedirs('csvs', exist_ok=True)\n",
    "    df.to_csv(path)"
   ]
  },
  {
   "cell_type": "code",
   "execution_count": 4,
   "metadata": {},
   "outputs": [],
   "source": [
    "def generateBoundedImage(image, index:int, df:pd.DataFrame):\n",
    "    ## Draw lines on the text in the document\n",
    "    level = 'word'\n",
    "    for l, x, y, w, h, c, t in df[['level', 'left', 'top', 'width', 'height', 'conf', 'text']].values:\n",
    "        if level == 'page':\n",
    "            if l == 1:\n",
    "                cv2.rectangle(image, (x, y), (x+w, y+h), (0, 0, 0), 2)\n",
    "            else:\n",
    "                continue\n",
    "\n",
    "        elif level == 'block':\n",
    "            if l == 2:\n",
    "                cv2.rectangle(image, (x, y), (x+w, y+h), (255, 0, 0), 2)\n",
    "            else:\n",
    "                continue\n",
    "        elif level == 'para':\n",
    "            if l == 3:\n",
    "                cv2.rectangle(image, (x, y), (x+w, y+h), (0, 255, 0), 2)\n",
    "            else:\n",
    "                continue\n",
    "        elif level == 'line':\n",
    "            if l == 4:\n",
    "                cv2.rectangle(image, (x, y), (x+w, y+h), (0, 0, 255), 2)\n",
    "            else:\n",
    "                continue\n",
    "        elif level == 'word':\n",
    "            if l == 5:\n",
    "                cv2.rectangle(image, (x, y), (x+w, y+h), (0, 255, 0), 2)\n",
    "                cv2.putText(image, t, (x, y), cv2.FONT_HERSHEY_PLAIN,\n",
    "                            1, (255, 0, 0), 2)\n",
    "            else:\n",
    "                continue\n",
    "    \n",
    "    boundedImagePath = \"../data/bounded/boundingbox_\"+ str(index)+\".jpeg\"\n",
    "    cv2.imwrite(boundedImagePath, image)"
   ]
  },
  {
   "cell_type": "code",
   "execution_count": 5,
   "metadata": {},
   "outputs": [],
   "source": [
    "# Generate metadata of a PDF file\n",
    "def getFileData(filename: str):\n",
    "    pages = convert_from_path(filename, 350)\n",
    "    i = 1\n",
    "    for page in pages:\n",
    "        image_name = \"../data/temp/Page_\" + str(i) + \".jpg\"\n",
    "        page.save(image_name, \"JPEG\")\n",
    "        i = i+1\n",
    "\n",
    "    imagePathList = glob(\"../data/temp/*.jpg\")\n",
    "\n",
    "    #logging.info(\"total number of pages \"+ str(len(imagePathList)))\n",
    "    imagePathList.sort()\n",
    "\n",
    "    finalDF = pd.DataFrame()\n",
    "\n",
    "    col_int = ['level', 'page_num', 'block_num', 'par_num',\n",
    "                'line_num', 'word_num', 'left', 'top', 'width', 'height']\n",
    "\n",
    "    for index, path in enumerate   (imagePathList):\n",
    "        if index == 1:\n",
    "            break\n",
    "\n",
    "        img = cv2.imread(path)\n",
    "        data = pytesseract.image_to_data(img, lang='mar+eng')\n",
    "        dataList = list(map(lambda x: x.split('\\t'), data.split('\\n')))\n",
    "        df = pd.DataFrame(dataList[1:], columns=dataList[0])\n",
    "        df.to_csv(index=False)\n",
    "\n",
    "        ## Data cleaning\n",
    "        df.dropna(inplace=True)  # drop the missing in rows\n",
    "        df[col_int] = df[col_int].astype(int)\n",
    "        df['conf'] = df['conf'].astype(float).astype(int)\n",
    "\n",
    "        ## Draw lines on the text in the document\n",
    "        #image = img.copy()\n",
    "        #generateBoundedImage(image, index, df)\n",
    "    \n",
    "        finalDF = pd.concat([finalDF, df], ignore_index = True)\n",
    "\n",
    "    # write df to csv\n",
    "    writecsv(finalDF, \"csvs/extracted.csv\")\n",
    "    \n",
    "    dfWords=finalDF[finalDF['level'] == 5]\n",
    "\n",
    "    writecsv(dfWords, \"csvs/extractedText.csv\")\n",
    "\n",
    "    ## Filter dataframe to just words\n",
    "    finalDF80 = dfWords[dfWords['conf'] > 80]\n",
    "    #finalDF80 = finalDF80[[\"text\"]]\n",
    "\n",
    "    #finalDF80.dropna(inplace=True)\n",
    "\n",
    "    return finalDF80\n"
   ]
  },
  {
   "cell_type": "code",
   "execution_count": 6,
   "metadata": {},
   "outputs": [
    {
     "ename": "TesseractNotFoundError",
     "evalue": "tesseract is not installed or it's not in your PATH. See README file for more information.",
     "output_type": "error",
     "traceback": [
      "\u001b[0;31m---------------------------------------------------------------------------\u001b[0m",
      "\u001b[0;31mFileNotFoundError\u001b[0m                         Traceback (most recent call last)",
      "\u001b[0;32m~/opt/anaconda3/envs/py37/lib/python3.7/site-packages/pytesseract/pytesseract.py\u001b[0m in \u001b[0;36mget_tesseract_version\u001b[0;34m()\u001b[0m\n\u001b[1;32m    391\u001b[0m             \u001b[0menv\u001b[0m\u001b[0;34m=\u001b[0m\u001b[0menviron\u001b[0m\u001b[0;34m,\u001b[0m\u001b[0;34m\u001b[0m\u001b[0;34m\u001b[0m\u001b[0m\n\u001b[0;32m--> 392\u001b[0;31m             \u001b[0mstdin\u001b[0m\u001b[0;34m=\u001b[0m\u001b[0msubprocess\u001b[0m\u001b[0;34m.\u001b[0m\u001b[0mDEVNULL\u001b[0m\u001b[0;34m,\u001b[0m\u001b[0;34m\u001b[0m\u001b[0;34m\u001b[0m\u001b[0m\n\u001b[0m\u001b[1;32m    393\u001b[0m         )\n",
      "\u001b[0;32m~/opt/anaconda3/envs/py37/lib/python3.7/subprocess.py\u001b[0m in \u001b[0;36mcheck_output\u001b[0;34m(timeout, *popenargs, **kwargs)\u001b[0m\n\u001b[1;32m    410\u001b[0m     return run(*popenargs, stdout=PIPE, timeout=timeout, check=True,\n\u001b[0;32m--> 411\u001b[0;31m                **kwargs).stdout\n\u001b[0m\u001b[1;32m    412\u001b[0m \u001b[0;34m\u001b[0m\u001b[0m\n",
      "\u001b[0;32m~/opt/anaconda3/envs/py37/lib/python3.7/subprocess.py\u001b[0m in \u001b[0;36mrun\u001b[0;34m(input, capture_output, timeout, check, *popenargs, **kwargs)\u001b[0m\n\u001b[1;32m    487\u001b[0m \u001b[0;34m\u001b[0m\u001b[0m\n\u001b[0;32m--> 488\u001b[0;31m     \u001b[0;32mwith\u001b[0m \u001b[0mPopen\u001b[0m\u001b[0;34m(\u001b[0m\u001b[0;34m*\u001b[0m\u001b[0mpopenargs\u001b[0m\u001b[0;34m,\u001b[0m \u001b[0;34m**\u001b[0m\u001b[0mkwargs\u001b[0m\u001b[0;34m)\u001b[0m \u001b[0;32mas\u001b[0m \u001b[0mprocess\u001b[0m\u001b[0;34m:\u001b[0m\u001b[0;34m\u001b[0m\u001b[0;34m\u001b[0m\u001b[0m\n\u001b[0m\u001b[1;32m    489\u001b[0m         \u001b[0;32mtry\u001b[0m\u001b[0;34m:\u001b[0m\u001b[0;34m\u001b[0m\u001b[0;34m\u001b[0m\u001b[0m\n",
      "\u001b[0;32m~/opt/anaconda3/envs/py37/lib/python3.7/subprocess.py\u001b[0m in \u001b[0;36m__init__\u001b[0;34m(self, args, bufsize, executable, stdin, stdout, stderr, preexec_fn, close_fds, shell, cwd, env, universal_newlines, startupinfo, creationflags, restore_signals, start_new_session, pass_fds, encoding, errors, text)\u001b[0m\n\u001b[1;32m    799\u001b[0m                                 \u001b[0merrread\u001b[0m\u001b[0;34m,\u001b[0m \u001b[0merrwrite\u001b[0m\u001b[0;34m,\u001b[0m\u001b[0;34m\u001b[0m\u001b[0;34m\u001b[0m\u001b[0m\n\u001b[0;32m--> 800\u001b[0;31m                                 restore_signals, start_new_session)\n\u001b[0m\u001b[1;32m    801\u001b[0m         \u001b[0;32mexcept\u001b[0m\u001b[0;34m:\u001b[0m\u001b[0;34m\u001b[0m\u001b[0;34m\u001b[0m\u001b[0m\n",
      "\u001b[0;32m~/opt/anaconda3/envs/py37/lib/python3.7/subprocess.py\u001b[0m in \u001b[0;36m_execute_child\u001b[0;34m(self, args, executable, preexec_fn, close_fds, pass_fds, cwd, env, startupinfo, creationflags, shell, p2cread, p2cwrite, c2pread, c2pwrite, errread, errwrite, restore_signals, start_new_session)\u001b[0m\n\u001b[1;32m   1550\u001b[0m                             \u001b[0merr_msg\u001b[0m \u001b[0;34m+=\u001b[0m \u001b[0;34m': '\u001b[0m \u001b[0;34m+\u001b[0m \u001b[0mrepr\u001b[0m\u001b[0;34m(\u001b[0m\u001b[0merr_filename\u001b[0m\u001b[0;34m)\u001b[0m\u001b[0;34m\u001b[0m\u001b[0;34m\u001b[0m\u001b[0m\n\u001b[0;32m-> 1551\u001b[0;31m                     \u001b[0;32mraise\u001b[0m \u001b[0mchild_exception_type\u001b[0m\u001b[0;34m(\u001b[0m\u001b[0merrno_num\u001b[0m\u001b[0;34m,\u001b[0m \u001b[0merr_msg\u001b[0m\u001b[0;34m,\u001b[0m \u001b[0merr_filename\u001b[0m\u001b[0;34m)\u001b[0m\u001b[0;34m\u001b[0m\u001b[0;34m\u001b[0m\u001b[0m\n\u001b[0m\u001b[1;32m   1552\u001b[0m                 \u001b[0;32mraise\u001b[0m \u001b[0mchild_exception_type\u001b[0m\u001b[0;34m(\u001b[0m\u001b[0merr_msg\u001b[0m\u001b[0;34m)\u001b[0m\u001b[0;34m\u001b[0m\u001b[0;34m\u001b[0m\u001b[0m\n",
      "\u001b[0;31mFileNotFoundError\u001b[0m: [Errno 2] No such file or directory: 'tesseract': 'tesseract'",
      "\nDuring handling of the above exception, another exception occurred:\n",
      "\u001b[0;31mTesseractNotFoundError\u001b[0m                    Traceback (most recent call last)",
      "\u001b[0;32m/var/folders/d0/ngm8btx10pxd83kzj6_pr14w0000gn/T/ipykernel_43348/1160906187.py\u001b[0m in \u001b[0;36m<module>\u001b[0;34m\u001b[0m\n\u001b[0;32m----> 1\u001b[0;31m \u001b[0mdf80\u001b[0m \u001b[0;34m=\u001b[0m \u001b[0mgetFileData\u001b[0m\u001b[0;34m(\u001b[0m\u001b[0mpdfPath\u001b[0m\u001b[0;34m)\u001b[0m\u001b[0;34m\u001b[0m\u001b[0;34m\u001b[0m\u001b[0m\n\u001b[0m\u001b[1;32m      2\u001b[0m \u001b[0mwritecsv\u001b[0m\u001b[0;34m(\u001b[0m\u001b[0mdf80\u001b[0m\u001b[0;34m,\u001b[0m \u001b[0;34m\"csvs/output_80.csv\"\u001b[0m\u001b[0;34m)\u001b[0m\u001b[0;34m\u001b[0m\u001b[0;34m\u001b[0m\u001b[0m\n",
      "\u001b[0;32m/var/folders/d0/ngm8btx10pxd83kzj6_pr14w0000gn/T/ipykernel_43348/3668668730.py\u001b[0m in \u001b[0;36mgetFileData\u001b[0;34m(filename)\u001b[0m\n\u001b[1;32m     23\u001b[0m \u001b[0;34m\u001b[0m\u001b[0m\n\u001b[1;32m     24\u001b[0m         \u001b[0mimg\u001b[0m \u001b[0;34m=\u001b[0m \u001b[0mcv2\u001b[0m\u001b[0;34m.\u001b[0m\u001b[0mimread\u001b[0m\u001b[0;34m(\u001b[0m\u001b[0mpath\u001b[0m\u001b[0;34m)\u001b[0m\u001b[0;34m\u001b[0m\u001b[0;34m\u001b[0m\u001b[0m\n\u001b[0;32m---> 25\u001b[0;31m         \u001b[0mdata\u001b[0m \u001b[0;34m=\u001b[0m \u001b[0mpytesseract\u001b[0m\u001b[0;34m.\u001b[0m\u001b[0mimage_to_data\u001b[0m\u001b[0;34m(\u001b[0m\u001b[0mimg\u001b[0m\u001b[0;34m,\u001b[0m \u001b[0mlang\u001b[0m\u001b[0;34m=\u001b[0m\u001b[0;34m'mar+eng'\u001b[0m\u001b[0;34m)\u001b[0m\u001b[0;34m\u001b[0m\u001b[0;34m\u001b[0m\u001b[0m\n\u001b[0m\u001b[1;32m     26\u001b[0m         \u001b[0mdataList\u001b[0m \u001b[0;34m=\u001b[0m \u001b[0mlist\u001b[0m\u001b[0;34m(\u001b[0m\u001b[0mmap\u001b[0m\u001b[0;34m(\u001b[0m\u001b[0;32mlambda\u001b[0m \u001b[0mx\u001b[0m\u001b[0;34m:\u001b[0m \u001b[0mx\u001b[0m\u001b[0;34m.\u001b[0m\u001b[0msplit\u001b[0m\u001b[0;34m(\u001b[0m\u001b[0;34m'\\t'\u001b[0m\u001b[0;34m)\u001b[0m\u001b[0;34m,\u001b[0m \u001b[0mdata\u001b[0m\u001b[0;34m.\u001b[0m\u001b[0msplit\u001b[0m\u001b[0;34m(\u001b[0m\u001b[0;34m'\\n'\u001b[0m\u001b[0;34m)\u001b[0m\u001b[0;34m)\u001b[0m\u001b[0;34m)\u001b[0m\u001b[0;34m\u001b[0m\u001b[0;34m\u001b[0m\u001b[0m\n\u001b[1;32m     27\u001b[0m         \u001b[0mdf\u001b[0m \u001b[0;34m=\u001b[0m \u001b[0mpd\u001b[0m\u001b[0;34m.\u001b[0m\u001b[0mDataFrame\u001b[0m\u001b[0;34m(\u001b[0m\u001b[0mdataList\u001b[0m\u001b[0;34m[\u001b[0m\u001b[0;36m1\u001b[0m\u001b[0;34m:\u001b[0m\u001b[0;34m]\u001b[0m\u001b[0;34m,\u001b[0m \u001b[0mcolumns\u001b[0m\u001b[0;34m=\u001b[0m\u001b[0mdataList\u001b[0m\u001b[0;34m[\u001b[0m\u001b[0;36m0\u001b[0m\u001b[0;34m]\u001b[0m\u001b[0;34m)\u001b[0m\u001b[0;34m\u001b[0m\u001b[0;34m\u001b[0m\u001b[0m\n",
      "\u001b[0;32m~/opt/anaconda3/envs/py37/lib/python3.7/site-packages/pytesseract/pytesseract.py\u001b[0m in \u001b[0;36mimage_to_data\u001b[0;34m(image, lang, config, nice, output_type, timeout, pandas_config)\u001b[0m\n\u001b[1;32m    519\u001b[0m     \"\"\"\n\u001b[1;32m    520\u001b[0m \u001b[0;34m\u001b[0m\u001b[0m\n\u001b[0;32m--> 521\u001b[0;31m     \u001b[0;32mif\u001b[0m \u001b[0mget_tesseract_version\u001b[0m\u001b[0;34m(\u001b[0m\u001b[0;34m)\u001b[0m \u001b[0;34m<\u001b[0m \u001b[0mTESSERACT_MIN_VERSION\u001b[0m\u001b[0;34m:\u001b[0m\u001b[0;34m\u001b[0m\u001b[0;34m\u001b[0m\u001b[0m\n\u001b[0m\u001b[1;32m    522\u001b[0m         \u001b[0;32mraise\u001b[0m \u001b[0mTSVNotSupported\u001b[0m\u001b[0;34m(\u001b[0m\u001b[0;34m)\u001b[0m\u001b[0;34m\u001b[0m\u001b[0;34m\u001b[0m\u001b[0m\n\u001b[1;32m    523\u001b[0m \u001b[0;34m\u001b[0m\u001b[0m\n",
      "\u001b[0;32m~/opt/anaconda3/envs/py37/lib/python3.7/site-packages/pytesseract/pytesseract.py\u001b[0m in \u001b[0;36mwrapper\u001b[0;34m(*args, **kwargs)\u001b[0m\n\u001b[1;32m    144\u001b[0m     \u001b[0;32mdef\u001b[0m \u001b[0mwrapper\u001b[0m\u001b[0;34m(\u001b[0m\u001b[0;34m*\u001b[0m\u001b[0margs\u001b[0m\u001b[0;34m,\u001b[0m \u001b[0;34m**\u001b[0m\u001b[0mkwargs\u001b[0m\u001b[0;34m)\u001b[0m\u001b[0;34m:\u001b[0m\u001b[0;34m\u001b[0m\u001b[0;34m\u001b[0m\u001b[0m\n\u001b[1;32m    145\u001b[0m         \u001b[0;32mif\u001b[0m \u001b[0mwrapper\u001b[0m\u001b[0;34m.\u001b[0m\u001b[0m_result\u001b[0m \u001b[0;32mis\u001b[0m \u001b[0mwrapper\u001b[0m\u001b[0;34m:\u001b[0m\u001b[0;34m\u001b[0m\u001b[0;34m\u001b[0m\u001b[0m\n\u001b[0;32m--> 146\u001b[0;31m             \u001b[0mwrapper\u001b[0m\u001b[0;34m.\u001b[0m\u001b[0m_result\u001b[0m \u001b[0;34m=\u001b[0m \u001b[0mfunc\u001b[0m\u001b[0;34m(\u001b[0m\u001b[0;34m*\u001b[0m\u001b[0margs\u001b[0m\u001b[0;34m,\u001b[0m \u001b[0;34m**\u001b[0m\u001b[0mkwargs\u001b[0m\u001b[0;34m)\u001b[0m\u001b[0;34m\u001b[0m\u001b[0;34m\u001b[0m\u001b[0m\n\u001b[0m\u001b[1;32m    147\u001b[0m         \u001b[0;32mreturn\u001b[0m \u001b[0mwrapper\u001b[0m\u001b[0;34m.\u001b[0m\u001b[0m_result\u001b[0m\u001b[0;34m\u001b[0m\u001b[0;34m\u001b[0m\u001b[0m\n\u001b[1;32m    148\u001b[0m \u001b[0;34m\u001b[0m\u001b[0m\n",
      "\u001b[0;32m~/opt/anaconda3/envs/py37/lib/python3.7/site-packages/pytesseract/pytesseract.py\u001b[0m in \u001b[0;36mget_tesseract_version\u001b[0;34m()\u001b[0m\n\u001b[1;32m    393\u001b[0m         )\n\u001b[1;32m    394\u001b[0m     \u001b[0;32mexcept\u001b[0m \u001b[0mOSError\u001b[0m\u001b[0;34m:\u001b[0m\u001b[0;34m\u001b[0m\u001b[0;34m\u001b[0m\u001b[0m\n\u001b[0;32m--> 395\u001b[0;31m         \u001b[0;32mraise\u001b[0m \u001b[0mTesseractNotFoundError\u001b[0m\u001b[0;34m(\u001b[0m\u001b[0;34m)\u001b[0m\u001b[0;34m\u001b[0m\u001b[0;34m\u001b[0m\u001b[0m\n\u001b[0m\u001b[1;32m    396\u001b[0m \u001b[0;34m\u001b[0m\u001b[0m\n\u001b[1;32m    397\u001b[0m     \u001b[0mraw_version\u001b[0m \u001b[0;34m=\u001b[0m \u001b[0moutput\u001b[0m\u001b[0;34m.\u001b[0m\u001b[0mdecode\u001b[0m\u001b[0;34m(\u001b[0m\u001b[0mDEFAULT_ENCODING\u001b[0m\u001b[0;34m)\u001b[0m\u001b[0;34m\u001b[0m\u001b[0;34m\u001b[0m\u001b[0m\n",
      "\u001b[0;31mTesseractNotFoundError\u001b[0m: tesseract is not installed or it's not in your PATH. See README file for more information."
     ]
    }
   ],
   "source": [
    "df80 = getFileData(pdfPath)\n",
    "writecsv(df80, \"csvs/output_80.csv\")\n"
   ]
  },
  {
   "cell_type": "code",
   "execution_count": null,
   "metadata": {},
   "outputs": [
    {
     "data": {
      "text/plain": [
       "array(['  ', 'मराठी', 'विकिपीडिया', '=.', 'विकिपीडियन्स', 'कडून',\n",
       "       '**आपले', 'हार्दिक', 'स्वागत', 'आहे.**', '      ', ' ', ' ', ' ',\n",
       "       '  ', '  ', ' ', ' ', ' ', ' ', ' ', ' ', '   ', ' ', ' ', '  ',\n",
       "       'जगाचे', 'स्वप्न', 'प्रत्यक्षात', 'आणा', 'कि', 'जगातील', 'त्या',\n",
       "       'प्रत्येक', 'भाषेतील', 'ज्ञान,', 'माहिती', 'आणि', 'संवाद',\n",
       "       'मराठीत', 'आणि', 'मराठीतील', 'माहीती,', 'ज्ञान', 'आणि', 'संबाद',\n",
       "       'जगातील', 'प्रत्येक', 'भाषेत', 'तत्काळ', 'आणि', 'मुक्त', 'पणे',\n",
       "       'उपलब्ध', 'चला', 'आपण', 'सारे', 'यामध्ये', 'वाक्यातील', 'काही',\n",
       "       'निवडक', 'जबाबदाऱ्या', 'पेलण्यास', 'सक्षम', 'मराठी', 'विकिपीडिया',\n",
       "       'चळवळीत', 'सहभागी', 'होऊ', 'या!', 'जर', 'हाडाचे', 'मराठी',\n",
       "       'प्रेमी', 'असाल', 'तर', 'लागा', 'कामाला', 'आत्ता', 'पासून', 'या',\n",
       "       'क्षणा', 'पासून', 'माय', 'मराठीस', 'द्या', 'मिळवून', 'तिच्या',\n",
       "       'हक्काची', 'जागा', 'जी', 'अढळ', 'असेल', 'जो', 'पर्यंत', 'हे',\n",
       "       'अंतराळ', 'आहे', 'आणि', 'त्यावर', 'जीवन', 'आहे', 'तो', 'पर्यंत',\n",
       "       'वाटेतील', 'सारे', 'अडथळे', 'केवळ', 'मानसिक', 'असतील', 'आणि', 'ते',\n",
       "       'पार', 'करण्याचे', 'सामर्थ्य', 'मराठी', 'भाषा', 'तुम्हा', 'आम्हा',\n",
       "       'सर्वांना', 'सदोदीत', 'देवो', 'ही', ' ', ' ', '   ', '   ', ' ',\n",
       "       ' ', '     ', '   ', ' ', ' ', 'विकिपीडिया', 'परिचय', ':',\n",
       "       'विकिपीडिया', 'हा', 'विकिपीडिया', 'वाचकांनीच', 'एकत्रितपणे',\n",
       "       'इंटरनेट', 'वर', 'संपादित', 'केलेला', 'मुक्त', 'ज्ञानकोश', 'आहे.',\n",
       "       'हे', 'विकी', 'आहे', 'याचा', 'अर्थ', 'कुणीही', 'अगदी',\n",
       "       'तुम्हीसुध्दा', 'ह्या', 'वेबपेजची', 'बहुतेक', 'पाने', 'किंवा',\n",
       "       'लेख', \"'संपादन'\", 'असे', 'लिहीलेल्या', 'टॅबच्या', 'चौकटीवर',\n",
       "       'क्लिक', 'करुन', 'संपादनास', 'सुरुवात', 'करु', 'शकता.', 'संपादन',\n",
       "       'म्हणजे', 'नवे', 'लेखन', 'आणि', 'जुन्या', 'लेखनात', 'इंग्रजी',\n",
       "       'विकिपीडिया', '१५', 'जानेवारी', '२००१', 'ला', 'सुरु', 'झाला', 'तर',\n",
       "       'मराठी', 'विकिपीडिया', 'ची', 'स्थापना', '२००३', 'ला', 'झाली.',\n",
       "       'मराठी', 'जानणारे', 'यास', 'सक्रीय', 'हातभार', 'लावत', 'आहेत.',\n",
       "       'संकेतस्थळ', ':', 'म्हणजे', 'काय?', 'काही', 'वेळा',\n",
       "       'ज्ञानकोशासाठी', 'विश्वकोश', 'अशीही', 'संज्ञा', 'वापरली', 'जाते.',\n",
       "       'विश्वकोश', 'म्हणजे', 'ज्ञानाच्या', 'सर्व', 'शाखा', 'विशिष्ट',\n",
       "       'शाखेशी', 'बहुव्यापक', 'माहिती', 'लिहीलेला', 'बहुसमावेशक',\n",
       "       'सारग्रंथ', 'होय.', 'विश्वकोश', 'प्रत्येक', 'विषयावर', 'एक', 'लेख',\n",
       "       'या', 'प्रमाणे', 'विश्वकोशाची', 'विविध', 'लेखात', 'नोंद', 'घेते.',\n",
       "       'एखाद्या', 'विश्वकोषातील', 'विषयासंबंधीत', 'लेख,', 'मजकुर', 'किती',\n",
       "       'आणी', 'काय', 'आहे.', 'त्या', 'नुसार', 'एक', 'पुस्तक', 'त्यांच्या',\n",
       "       'अनेक', 'खंडात', 'मांडणी', 'केलेले', 'आढळतात.', 'विश्वकोशांना',\n",
       "       'स्वतःचा', 'विशिष्ट', 'वाचकवर्ग', 'असतो.', 'तो', 'केवळ',\n",
       "       'संक्षिप्त(मोजके)', 'साक्षेपी(संदर्भ', 'असलेली', 'काही', 'विरुध्द',\n",
       "       'मते', 'असल्यास,', 'त्याच्या', 'सह)', 'तिथे', 'संदर्भ', 'असलेली',\n",
       "       'वस्तुनिष्ठ', 'आणि', 'तटस्थपणे', 'दिलेली', 'माहिती', 'वाचत',\n",
       "       'असतो.', ' ', ' ', ' ', ' ', '  ', '  ', ' ', ' ', ' ', ' ', ' ',\n",
       "       ' ', ' ', ' ', '   '], dtype=object)"
      ]
     },
     "execution_count": 31,
     "metadata": {},
     "output_type": "execute_result"
    }
   ],
   "source": [
    "dfArray = df80['text'].to_numpy()\n",
    "\n",
    "dfArray"
   ]
  },
  {
   "cell_type": "code",
   "execution_count": null,
   "metadata": {},
   "outputs": [
    {
     "data": {
      "text/plain": [
       "\"मराठी विकिपीडिया =. विकिपीडियन्स कडून **आपले हार्दिक स्वागत आहे.** जगाचे स्वप्न प्रत्यक्षात आणा कि जगातील त्या प्रत्येक भाषेतील ज्ञान, माहिती आणि संवाद मराठीत आणि मराठीतील माहीती, ज्ञान आणि संबाद जगातील प्रत्येक भाषेत तत्काळ आणि मुक्त पणे उपलब्ध चला आपण सारे यामध्ये वाक्यातील काही निवडक जबाबदाऱ्या पेलण्यास सक्षम मराठी विकिपीडिया चळवळीत सहभागी होऊ या! जर हाडाचे मराठी प्रेमी असाल तर लागा कामाला आत्ता पासून या क्षणा पासून माय मराठीस द्या मिळवून तिच्या हक्काची जागा जी अढळ असेल जो पर्यंत हे अंतराळ आहे आणि त्यावर जीवन आहे तो पर्यंत वाटेतील सारे अडथळे केवळ मानसिक असतील आणि ते पार करण्याचे सामर्थ्य मराठी भाषा तुम्हा आम्हा सर्वांना सदोदीत देवो ही विकिपीडिया परिचय : विकिपीडिया हा विकिपीडिया वाचकांनीच एकत्रितपणे इंटरनेट वर संपादित केलेला मुक्त ज्ञानकोश आहे. हे विकी आहे याचा अर्थ कुणीही अगदी तुम्हीसुध्दा ह्या वेबपेजची बहुतेक पाने किंवा लेख 'संपादन' असे लिहीलेल्या टॅबच्या चौकटीवर क्लिक करुन संपादनास सुरुवात करु शकता. संपादन म्हणजे नवे लेखन आणि जुन्या लेखनात इंग्रजी विकिपीडिया १५ जानेवारी २००१ ला सुरु झाला तर मराठी विकिपीडिया ची स्थापना २००३ ला झाली. मराठी जानणारे यास सक्रीय हातभार लावत आहेत. संकेतस्थळ : म्हणजे काय? काही वेळा ज्ञानकोशासाठी विश्वकोश अशीही संज्ञा वापरली जाते. विश्वकोश म्हणजे ज्ञानाच्या सर्व शाखा विशिष्ट शाखेशी बहुव्यापक माहिती लिहीलेला बहुसमावेशक सारग्रंथ होय. विश्वकोश प्रत्येक विषयावर एक लेख या प्रमाणे विश्वकोशाची विविध लेखात नोंद घेते. एखाद्या विश्वकोषातील विषयासंबंधीत लेख, मजकुर किती आणी काय आहे. त्या नुसार एक पुस्तक त्यांच्या अनेक खंडात मांडणी केलेले आढळतात. विश्वकोशांना स्वतःचा विशिष्ट वाचकवर्ग असतो. तो केवळ संक्षिप्त(मोजके) साक्षेपी(संदर्भ असलेली काही विरुध्द मते असल्यास, त्याच्या सह) तिथे संदर्भ असलेली वस्तुनिष्ठ आणि तटस्थपणे दिलेली माहिती वाचत असतो.\""
      ]
     },
     "execution_count": 34,
     "metadata": {},
     "output_type": "execute_result"
    }
   ],
   "source": [
    "dfArrayWithoutSpaces = [ele for ele in dfArray if ele.strip()]\n",
    "largeString = \" \".join(dfArrayWithoutSpaces)\n",
    "\n",
    "largeString\n"
   ]
  },
  {
   "cell_type": "code",
   "execution_count": null,
   "metadata": {},
   "outputs": [],
   "source": [
    "interestedCols = ['page_num', 'left', 'top', 'width', 'height', 'conf']"
   ]
  }
 ],
 "metadata": {
  "kernelspec": {
   "display_name": "Python 3",
   "language": "python",
   "name": "python3"
  },
  "language_info": {
   "codemirror_mode": {
    "name": "ipython",
    "version": 3
   },
   "file_extension": ".py",
   "mimetype": "text/x-python",
   "name": "python",
   "nbconvert_exporter": "python",
   "pygments_lexer": "ipython3",
   "version": "3.7.16"
  },
  "orig_nbformat": 4,
  "vscode": {
   "interpreter": {
    "hash": "58c670b8b3135f95eeb50a087490294868fb63e0a9a712eae1d387dba638a30f"
   }
  }
 },
 "nbformat": 4,
 "nbformat_minor": 2
}
